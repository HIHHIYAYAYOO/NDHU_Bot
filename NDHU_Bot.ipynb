{
 "cells": [
  {
   "cell_type": "code",
   "execution_count": null,
   "metadata": {},
   "outputs": [],
   "source": [
    "# 安裝 selenium  webdriver_manager 套件\n",
    "!pip install selenium\n",
    "!pip install webdriver_manager"
   ]
  },
  {
   "cell_type": "code",
   "execution_count": 1,
   "metadata": {},
   "outputs": [],
   "source": [
    "# 導入套件\n",
    "import time\n",
    "from selenium import webdriver\n",
    "from selenium.webdriver.common.by import By\n",
    "from selenium.webdriver.chrome.service import Service\n",
    "from webdriver_manager.chrome import ChromeDriverManager\n",
    "from selenium.webdriver.support.ui import WebDriverWait\n",
    "from selenium.webdriver.support import expected_conditions as EC\n",
    "from selenium.common.exceptions import ElementNotInteractableException "
   ]
  },
  {
   "cell_type": "code",
   "execution_count": 2,
   "metadata": {},
   "outputs": [],
   "source": [
    "# 設定學號、搶課密碼\n",
    "student_id = 'XXXXXX'\n",
    "password = 'XXXXXX'\n",
    "\n",
    "# 設定搶課順序(1~10) ex: seq = [1, 2, 3, 4, 5]\n",
    "seq = [2, 3, 5, 1, 4]"
   ]
  },
  {
   "cell_type": "code",
   "execution_count": 3,
   "metadata": {},
   "outputs": [],
   "source": [
    "# 創建瀏覽器\n",
    "def create_driver(driver_path=\"chromedriver.exe\"):\n",
    "    try:\n",
    "        # 自動安裝 chromedriver\n",
    "        return webdriver.Chrome(service=Service(ChromeDriverManager().install()))\n",
    "    except Exception:\n",
    "        # 自動安裝失敗，使用本地安裝的 chromedriver\n",
    "        return webdriver.Chrome(service=Service(driver_path))\n",
    "\n",
    "# 登入\n",
    "def login(student_id, password):\n",
    "    # 設定等候時間\n",
    "    wait = WebDriverWait(driver, 1)\n",
    "\n",
    "    # 輸入學號、選課密碼，點擊登入\n",
    "    wait.until(EC.element_to_be_clickable((By.XPATH, '//*[@id=\"ContentPlaceHolder1_ed_StudNo\"]'))).send_keys(student_id)\n",
    "    wait.until(EC.element_to_be_clickable((By.XPATH, '//*[@id=\"ContentPlaceHolder1_ed_pass\"]'))).send_keys(password)\n",
    "    wait.until(EC.element_to_be_clickable((By.XPATH, '//*[@id=\"ContentPlaceHolder1_BtnLoginNew\"]'))).click()\n",
    "\n",
    "    # 接受警示框(冒用情形警示框，確認)\n",
    "    wait.until(EC.alert_is_present()).accept()\n",
    "\n",
    "    try:\n",
    "        # 取消填寫教學意見，接受警示框(冒用情形警示框，確認)\n",
    "        wait.until(EC.element_to_be_clickable((By.XPATH, '/html/body/div[1]/div[3]/div/button[2]'))).click()\n",
    "        wait.until(EC.alert_is_present()).accept()\n",
    "    except:\n",
    "        pass\n",
    "\n",
    "#　創建瀏覽器\n",
    "driver = create_driver()\n",
    "\n",
    "# 打開指定網站(網路選課系統)\n",
    "driver.get(\"https://sys.ndhu.edu.tw/AA/CLASS/subjselect/\")\n",
    "\n",
    "# 登入\n",
    "login(student_id, password)\n"
   ]
  },
  {
   "cell_type": "code",
   "execution_count": null,
   "metadata": {},
   "outputs": [],
   "source": [
    "# 自動選課(可以提早運行)\n",
    "def auto_select_course(driver, seq):\n",
    "    # 點擊選課\n",
    "    driver.find_elements(By.XPATH, '//*[@id=\"ContentPlaceHolder1_HyperLink1\"]')[0].click()\n",
    "\n",
    "    # 點擊查詢預排課程\n",
    "    driver.find_elements(By.XPATH, '//*[@id=\"ContentPlaceHolder1_Button7\"]')[0].click()\n",
    "    time.sleep(0.1)\n",
    "\n",
    "    # 獲取所有加選元素\n",
    "    elements = driver.find_elements(By.XPATH, '//*[@id=\"ContentPlaceHolder1_grd_subjs\"]/tbody/tr/td[1]/input')\n",
    "    first_element = elements[seq[0] - 1]\n",
    "\n",
    "    # 連續點擊第一個課程\n",
    "    while True:\n",
    "        try:\n",
    "            # 點擊加選，接受警示框(確認)\n",
    "            elements[seq[0] - 1].click()\n",
    "            driver.switch_to.alert.accept()\n",
    "        except ElementNotInteractableException:\n",
    "            # 按鈕消失時，跳出迴圈\n",
    "            break\n",
    "\n",
    "    # 點擊剩餘課程\n",
    "    for i in seq[1:]:\n",
    "        # 點擊加選，接受警示框(確認)\n",
    "        elements[i - 1].click()\n",
    "        driver.switch_to.alert.accept()\n",
    "\n",
    "auto_select_course(driver, seq)"
   ]
  }
 ],
 "metadata": {
  "kernelspec": {
   "display_name": "base",
   "language": "python",
   "name": "python3"
  },
  "language_info": {
   "codemirror_mode": {
    "name": "ipython",
    "version": 3
   },
   "file_extension": ".py",
   "mimetype": "text/x-python",
   "name": "python",
   "nbconvert_exporter": "python",
   "pygments_lexer": "ipython3",
   "version": "3.11.8"
  }
 },
 "nbformat": 4,
 "nbformat_minor": 2
}
